{
 "cells": [
  {
   "cell_type": "markdown",
   "metadata": {
    "toc": true
   },
   "source": [
    "<h1>Navigation<span class=\"tocSkip\"></span></h1>\n",
    "<div class=\"toc\"><ul class=\"toc-item\"><li><span><a href=\"#Data\" data-toc-modified-id=\"Data-1\"><span class=\"toc-item-num\">1&nbsp;&nbsp;</span>Data</a></span></li><li><span><a href=\"#Calculating-Beta\" data-toc-modified-id=\"Calculating-Beta-2\"><span class=\"toc-item-num\">2&nbsp;&nbsp;</span>Calculating Beta</a></span></li><li><span><a href=\"#CAPM\" data-toc-modified-id=\"CAPM-3\"><span class=\"toc-item-num\">3&nbsp;&nbsp;</span>CAPM</a></span></li><li><span><a href=\"#Company’s-key-financial-indicators,-estimating-future-dividend-flows-and-calculating-the-stock-price-based-on-DDM\" data-toc-modified-id=\"Company’s-key-financial-indicators,-estimating-future-dividend-flows-and-calculating-the-stock-price-based-on-DDM-4\"><span class=\"toc-item-num\">4&nbsp;&nbsp;</span>Company’s key financial indicators, estimating future dividend flows and calculating the stock price based on DDM</a></span></li></ul></div>"
   ]
  },
  {
   "cell_type": "code",
   "execution_count": 60,
   "metadata": {},
   "outputs": [],
   "source": [
    "import pandas as pd\n",
    "import numpy as np\n",
    "from sklearn.linear_model import LinearRegression\n",
    "import requests\n",
    "import matplotlib.pyplot as plt"
   ]
  },
  {
   "cell_type": "code",
   "execution_count": 151,
   "metadata": {},
   "outputs": [],
   "source": [
    "import warnings\n",
    "warnings.filterwarnings('ignore')"
   ]
  },
  {
   "cell_type": "markdown",
   "metadata": {},
   "source": [
    "# Data"
   ]
  },
  {
   "cell_type": "markdown",
   "metadata": {},
   "source": [
    "Let's load the data on Yandex and IMOEX index quotations. In the future I will lead the dataframes to the form \"date - yield\"."
   ]
  },
  {
   "cell_type": "code",
   "execution_count": 2,
   "metadata": {},
   "outputs": [],
   "source": [
    "GAZP = pd.read_csv(\"GAZP.csv\")\n",
    "IMOEX = pd.read_csv(\"IMOEX.csv\")"
   ]
  },
  {
   "cell_type": "code",
   "execution_count": 3,
   "metadata": {},
   "outputs": [],
   "source": [
    "GAZP = GAZP[['Дата', 'Изм. %']]\n",
    "d = {'Дата': 'Date',\n",
    "    'Изм. %': 'GAZP_Return_daily'}\n",
    "\n",
    "GAZP.rename(columns = d, inplace = True)\n",
    "\n",
    "GAZP['GAZP_Return_daily'] = GAZP['GAZP_Return_daily'].str[:-1]\n",
    "GAZP['GAZP_Return_daily'] = GAZP['GAZP_Return_daily'].str.replace(',', '.')\n",
    "GAZP['GAZP_Return_daily'] = pd.to_numeric(GAZP['GAZP_Return_daily'])\n",
    "\n",
    "IMOEX = IMOEX[['Дата', 'Изм. %']]\n",
    "d = {'Дата': 'Date',\n",
    "    'Изм. %': 'IMOEX_Return_daily'}\n",
    "\n",
    "IMOEX.rename(columns = d, inplace = True)\n",
    "\n",
    "IMOEX['IMOEX_Return_daily'] = IMOEX['IMOEX_Return_daily'].str[:-1]\n",
    "IMOEX['IMOEX_Return_daily'] = IMOEX['IMOEX_Return_daily'].str.replace(',', '.')\n",
    "IMOEX['IMOEX_Return_daily'] = pd.to_numeric(IMOEX['IMOEX_Return_daily'])"
   ]
  },
  {
   "cell_type": "markdown",
   "metadata": {},
   "source": [
    "I downloaded the Russian Government Bond Zero Coupon Yield Curve, Values (% per annum) separately from the Central Bank website. "
   ]
  },
  {
   "cell_type": "code",
   "execution_count": 4,
   "metadata": {
    "scrolled": true
   },
   "outputs": [],
   "source": [
    "# https://stackoverflow.com/questions/23377533/python-beautifulsoup-parsing-table - решение отсюда\n",
    "\n",
    "url = \" https://www.cbr.ru/eng/hd_base/zcyc_params/?UniDbQuery.Posted=True&UniDbQuery.From=03.12.2016&UniDbQuery.To=03.12.2021\"\n",
    "\n",
    "r = requests.get(url)\n",
    "df_list = pd.read_html(r.text)\n",
    "df = df_list[0]\n",
    "df = df.droplevel(level=0, axis=1)"
   ]
  },
  {
   "cell_type": "markdown",
   "metadata": {},
   "source": [
    "I'll take the data on 10-year zero-coupon bonds."
   ]
  },
  {
   "cell_type": "code",
   "execution_count": 152,
   "metadata": {},
   "outputs": [],
   "source": [
    "GB = df[['Date', '10']]\n",
    "\n",
    "d = {'Date': 'Date',\n",
    "    '10': 'GB_Return'}\n",
    "\n",
    "GB.rename(columns = d, inplace = True)"
   ]
  },
  {
   "cell_type": "markdown",
   "metadata": {},
   "source": [
    "Let's see what we've got."
   ]
  },
  {
   "cell_type": "code",
   "execution_count": 6,
   "metadata": {},
   "outputs": [],
   "source": [
    "data = GAZP.merge(IMOEX, 'right')\n",
    "data['Date'] = pd.to_datetime(data['Date'])\n",
    "data.sort_values(by='Date', inplace = True)"
   ]
  },
  {
   "cell_type": "code",
   "execution_count": 7,
   "metadata": {},
   "outputs": [
    {
     "data": {
      "text/html": [
       "<div>\n",
       "<style scoped>\n",
       "    .dataframe tbody tr th:only-of-type {\n",
       "        vertical-align: middle;\n",
       "    }\n",
       "\n",
       "    .dataframe tbody tr th {\n",
       "        vertical-align: top;\n",
       "    }\n",
       "\n",
       "    .dataframe thead th {\n",
       "        text-align: right;\n",
       "    }\n",
       "</style>\n",
       "<table border=\"1\" class=\"dataframe\">\n",
       "  <thead>\n",
       "    <tr style=\"text-align: right;\">\n",
       "      <th></th>\n",
       "      <th>Date</th>\n",
       "      <th>GAZP_Return_daily</th>\n",
       "      <th>IMOEX_Return_daily</th>\n",
       "    </tr>\n",
       "  </thead>\n",
       "  <tbody>\n",
       "    <tr>\n",
       "      <th>1263</th>\n",
       "      <td>2016-05-12</td>\n",
       "      <td>0.94</td>\n",
       "      <td>1.38</td>\n",
       "    </tr>\n",
       "    <tr>\n",
       "      <th>1262</th>\n",
       "      <td>2016-06-12</td>\n",
       "      <td>-1.48</td>\n",
       "      <td>-0.28</td>\n",
       "    </tr>\n",
       "    <tr>\n",
       "      <th>1261</th>\n",
       "      <td>2016-07-12</td>\n",
       "      <td>0.30</td>\n",
       "      <td>0.38</td>\n",
       "    </tr>\n",
       "    <tr>\n",
       "      <th>1260</th>\n",
       "      <td>2016-08-12</td>\n",
       "      <td>0.72</td>\n",
       "      <td>2.15</td>\n",
       "    </tr>\n",
       "    <tr>\n",
       "      <th>1259</th>\n",
       "      <td>2016-09-12</td>\n",
       "      <td>-0.04</td>\n",
       "      <td>0.07</td>\n",
       "    </tr>\n",
       "    <tr>\n",
       "      <th>...</th>\n",
       "      <td>...</td>\n",
       "      <td>...</td>\n",
       "      <td>...</td>\n",
       "    </tr>\n",
       "    <tr>\n",
       "      <th>146</th>\n",
       "      <td>2021-12-05</td>\n",
       "      <td>-0.29</td>\n",
       "      <td>0.06</td>\n",
       "    </tr>\n",
       "    <tr>\n",
       "      <th>103</th>\n",
       "      <td>2021-12-07</td>\n",
       "      <td>0.74</td>\n",
       "      <td>0.53</td>\n",
       "    </tr>\n",
       "    <tr>\n",
       "      <th>80</th>\n",
       "      <td>2021-12-08</td>\n",
       "      <td>0.99</td>\n",
       "      <td>0.30</td>\n",
       "    </tr>\n",
       "    <tr>\n",
       "      <th>37</th>\n",
       "      <td>2021-12-10</td>\n",
       "      <td>-1.54</td>\n",
       "      <td>-0.38</td>\n",
       "    </tr>\n",
       "    <tr>\n",
       "      <th>15</th>\n",
       "      <td>2021-12-11</td>\n",
       "      <td>-3.98</td>\n",
       "      <td>-1.62</td>\n",
       "    </tr>\n",
       "  </tbody>\n",
       "</table>\n",
       "<p>1264 rows × 3 columns</p>\n",
       "</div>"
      ],
      "text/plain": [
       "           Date  GAZP_Return_daily  IMOEX_Return_daily\n",
       "1263 2016-05-12               0.94                1.38\n",
       "1262 2016-06-12              -1.48               -0.28\n",
       "1261 2016-07-12               0.30                0.38\n",
       "1260 2016-08-12               0.72                2.15\n",
       "1259 2016-09-12              -0.04                0.07\n",
       "...         ...                ...                 ...\n",
       "146  2021-12-05              -0.29                0.06\n",
       "103  2021-12-07               0.74                0.53\n",
       "80   2021-12-08               0.99                0.30\n",
       "37   2021-12-10              -1.54               -0.38\n",
       "15   2021-12-11              -3.98               -1.62\n",
       "\n",
       "[1264 rows x 3 columns]"
      ]
     },
     "execution_count": 7,
     "metadata": {},
     "output_type": "execute_result"
    }
   ],
   "source": [
    "data"
   ]
  },
  {
   "cell_type": "code",
   "execution_count": 153,
   "metadata": {},
   "outputs": [
    {
     "data": {
      "text/html": [
       "<div>\n",
       "<style scoped>\n",
       "    .dataframe tbody tr th:only-of-type {\n",
       "        vertical-align: middle;\n",
       "    }\n",
       "\n",
       "    .dataframe tbody tr th {\n",
       "        vertical-align: top;\n",
       "    }\n",
       "\n",
       "    .dataframe thead th {\n",
       "        text-align: right;\n",
       "    }\n",
       "</style>\n",
       "<table border=\"1\" class=\"dataframe\">\n",
       "  <thead>\n",
       "    <tr style=\"text-align: right;\">\n",
       "      <th></th>\n",
       "      <th>Date</th>\n",
       "      <th>GB_Return</th>\n",
       "    </tr>\n",
       "  </thead>\n",
       "  <tbody>\n",
       "    <tr>\n",
       "      <th>1259</th>\n",
       "      <td>2016-05-12</td>\n",
       "      <td>8.78</td>\n",
       "    </tr>\n",
       "    <tr>\n",
       "      <th>1258</th>\n",
       "      <td>2016-06-12</td>\n",
       "      <td>8.73</td>\n",
       "    </tr>\n",
       "    <tr>\n",
       "      <th>1257</th>\n",
       "      <td>2016-07-12</td>\n",
       "      <td>8.66</td>\n",
       "    </tr>\n",
       "    <tr>\n",
       "      <th>1256</th>\n",
       "      <td>2016-08-12</td>\n",
       "      <td>8.60</td>\n",
       "    </tr>\n",
       "    <tr>\n",
       "      <th>1255</th>\n",
       "      <td>2016-09-12</td>\n",
       "      <td>8.53</td>\n",
       "    </tr>\n",
       "    <tr>\n",
       "      <th>...</th>\n",
       "      <td>...</td>\n",
       "      <td>...</td>\n",
       "    </tr>\n",
       "    <tr>\n",
       "      <th>146</th>\n",
       "      <td>2021-12-05</td>\n",
       "      <td>7.27</td>\n",
       "    </tr>\n",
       "    <tr>\n",
       "      <th>103</th>\n",
       "      <td>2021-12-07</td>\n",
       "      <td>7.22</td>\n",
       "    </tr>\n",
       "    <tr>\n",
       "      <th>80</th>\n",
       "      <td>2021-12-08</td>\n",
       "      <td>7.10</td>\n",
       "    </tr>\n",
       "    <tr>\n",
       "      <th>37</th>\n",
       "      <td>2021-12-10</td>\n",
       "      <td>7.59</td>\n",
       "    </tr>\n",
       "    <tr>\n",
       "      <th>15</th>\n",
       "      <td>2021-12-11</td>\n",
       "      <td>8.08</td>\n",
       "    </tr>\n",
       "  </tbody>\n",
       "</table>\n",
       "<p>1260 rows × 2 columns</p>\n",
       "</div>"
      ],
      "text/plain": [
       "           Date  GB_Return\n",
       "1259 2016-05-12       8.78\n",
       "1258 2016-06-12       8.73\n",
       "1257 2016-07-12       8.66\n",
       "1256 2016-08-12       8.60\n",
       "1255 2016-09-12       8.53\n",
       "...         ...        ...\n",
       "146  2021-12-05       7.27\n",
       "103  2021-12-07       7.22\n",
       "80   2021-12-08       7.10\n",
       "37   2021-12-10       7.59\n",
       "15   2021-12-11       8.08\n",
       "\n",
       "[1260 rows x 2 columns]"
      ]
     },
     "execution_count": 153,
     "metadata": {},
     "output_type": "execute_result"
    }
   ],
   "source": [
    "GB['Date'] = pd.to_datetime(GB['Date'])\n",
    "GB.sort_values(by='Date', inplace = True)\n",
    "GB"
   ]
  },
  {
   "cell_type": "markdown",
   "metadata": {},
   "source": [
    "# Calculating Beta"
   ]
  },
  {
   "cell_type": "markdown",
   "metadata": {},
   "source": [
    "Variance-Covariance матрица. "
   ]
  },
  {
   "cell_type": "code",
   "execution_count": 9,
   "metadata": {
    "scrolled": true
   },
   "outputs": [
    {
     "data": {
      "text/html": [
       "<div>\n",
       "<style scoped>\n",
       "    .dataframe tbody tr th:only-of-type {\n",
       "        vertical-align: middle;\n",
       "    }\n",
       "\n",
       "    .dataframe tbody tr th {\n",
       "        vertical-align: top;\n",
       "    }\n",
       "\n",
       "    .dataframe thead th {\n",
       "        text-align: right;\n",
       "    }\n",
       "</style>\n",
       "<table border=\"1\" class=\"dataframe\">\n",
       "  <thead>\n",
       "    <tr style=\"text-align: right;\">\n",
       "      <th></th>\n",
       "      <th>GAZP_Return_daily</th>\n",
       "      <th>IMOEX_Return_daily</th>\n",
       "    </tr>\n",
       "  </thead>\n",
       "  <tbody>\n",
       "    <tr>\n",
       "      <th>GAZP_Return_daily</th>\n",
       "      <td>2.623168</td>\n",
       "      <td>1.266283</td>\n",
       "    </tr>\n",
       "    <tr>\n",
       "      <th>IMOEX_Return_daily</th>\n",
       "      <td>1.266283</td>\n",
       "      <td>1.184331</td>\n",
       "    </tr>\n",
       "  </tbody>\n",
       "</table>\n",
       "</div>"
      ],
      "text/plain": [
       "                    GAZP_Return_daily  IMOEX_Return_daily\n",
       "GAZP_Return_daily            2.623168            1.266283\n",
       "IMOEX_Return_daily           1.266283            1.184331"
      ]
     },
     "execution_count": 9,
     "metadata": {},
     "output_type": "execute_result"
    }
   ],
   "source": [
    "cov = data.cov()\n",
    "cov"
   ]
  },
  {
   "cell_type": "markdown",
   "metadata": {},
   "source": [
    "To calculate the beta, we need the covariance between the stock returns and the market index and the variation of the market index returns."
   ]
  },
  {
   "cell_type": "code",
   "execution_count": 144,
   "metadata": {},
   "outputs": [
    {
     "name": "stdout",
     "output_type": "stream",
     "text": [
      "covariance is equal to 1.2662828931642565\n",
      "variance is equal to 1.184330991047536\n"
     ]
    }
   ],
   "source": [
    "cov_GAZP_IMOEX = cov['GAZP_Return_daily']['IMOEX_Return_daily']\n",
    "var_IMOEX = cov['IMOEX_Return_daily']['IMOEX_Return_daily']\n",
    "\n",
    "print(f'covariance is equal to {cov_GAZP_IMOEX}')\n",
    "print(f'variance is equal to {var_IMOEX}')"
   ]
  },
  {
   "cell_type": "code",
   "execution_count": 145,
   "metadata": {},
   "outputs": [
    {
     "name": "stdout",
     "output_type": "stream",
     "text": [
      "beta is equal to 1.0691967893572003\n"
     ]
    }
   ],
   "source": [
    "beta = cov_GAZP_IMOEX / var_IMOEX\n",
    "print(f'beta is equal to {beta}')"
   ]
  },
  {
   "cell_type": "markdown",
   "metadata": {},
   "source": [
    "To make sure the calculations are correct, I will also calculate the beta through linear regression: we should get the same result. "
   ]
  },
  {
   "cell_type": "code",
   "execution_count": 12,
   "metadata": {},
   "outputs": [
    {
     "data": {
      "text/plain": [
       "1.0691967893571996"
      ]
     },
     "execution_count": 12,
     "metadata": {},
     "output_type": "execute_result"
    }
   ],
   "source": [
    "X = data['IMOEX_Return_daily'].to_numpy().reshape(-1, 1)\n",
    "Y = data['GAZP_Return_daily'].to_numpy().reshape(-1, 1)\n",
    "\n",
    "linreg = LinearRegression()\n",
    "linreg.fit(X, Y)\n",
    "\n",
    "linreg.coef_[0, 0]"
   ]
  },
  {
   "cell_type": "code",
   "execution_count": 63,
   "metadata": {},
   "outputs": [
    {
     "data": {
      "text/plain": [
       "Text(0, 0.5, 'GAZP_Return_daily')"
      ]
     },
     "execution_count": 63,
     "metadata": {},
     "output_type": "execute_result"
    },
    {
     "data": {
      "image/png": "[encoded data removed]",
      "text/plain": [
       "<Figure size 432x288 with 1 Axes>"
      ]
     },
     "metadata": {
      "needs_background": "light"
     },
     "output_type": "display_data"
    }
   ],
   "source": [
    "plt.scatter(data['IMOEX_Return_daily'].to_numpy(), data['GAZP_Return_daily'].to_numpy())\n",
    "plt.xlabel('IMOEX_Return_daily')\n",
    "plt.ylabel('GAZP_Return_daily')"
   ]
  },
  {
   "cell_type": "markdown",
   "metadata": {},
   "source": [
    "# CAPM"
   ]
  },
  {
   "cell_type": "code",
   "execution_count": 146,
   "metadata": {},
   "outputs": [
    {
     "name": "stdout",
     "output_type": "stream",
     "text": [
      "risk free rate is equal to 0.07416896825396832\n"
     ]
    }
   ],
   "source": [
    "risk_free_return = float(GB.mean()) / 100\n",
    "print(f'risk free rate is equal to {risk_free_return}')"
   ]
  },
  {
   "cell_type": "code",
   "execution_count": 147,
   "metadata": {},
   "outputs": [
    {
     "name": "stdout",
     "output_type": "stream",
     "text": [
      "market rate is equal to 0.151\n"
     ]
    }
   ],
   "source": [
    "market_return = 0.151\n",
    "print(f'market rate is equal to {market_return}')"
   ]
  },
  {
   "cell_type": "code",
   "execution_count": 148,
   "metadata": {},
   "outputs": [
    {
     "name": "stdout",
     "output_type": "stream",
     "text": [
      "requaired rate is equal to 0.15631646071982652\n"
     ]
    }
   ],
   "source": [
    "expected_return = risk_free_return + beta * (market_return - risk_free_return)\n",
    "print(f'requaired rate is equal to {expected_return}')"
   ]
  },
  {
   "cell_type": "markdown",
   "metadata": {},
   "source": [
    "# Company’s key financial indicators, estimating future dividend flows and calculating the stock price based on DDM"
   ]
  },
  {
   "cell_type": "code",
   "execution_count": 105,
   "metadata": {},
   "outputs": [],
   "source": [
    "ROE = {2013: 0.12224, 2014: 0.01620,\n",
    "       2015: 0.08443, 2016: 0.08577, 2017: 0.06142,\n",
    "       2018: 0.109, 2019: 0.085, 2020: 0.009}\n",
    "payout_ration = {2013: 0.54, 2014: 0.15, 2015: 0.15,\n",
    "                 2016: 0.18, 2017: 0.09, \n",
    "                 2018: 0.31, 2019: 3.4, 2020: 0.25}\n",
    "dividends = {2018: 16.61, 2019: 15.24, 2020: 12.55}"
   ]
  },
  {
   "cell_type": "code",
   "execution_count": 106,
   "metadata": {},
   "outputs": [],
   "source": [
    "fin_data = pd.DataFrame([ROE, payout_ration, dividends], index=['ROE', 'payout_ratio', 'dividends'])\n",
    "fin_data = fin_data.T"
   ]
  },
  {
   "cell_type": "code",
   "execution_count": 107,
   "metadata": {},
   "outputs": [
    {
     "data": {
      "text/html": [
       "<div>\n",
       "<style scoped>\n",
       "    .dataframe tbody tr th:only-of-type {\n",
       "        vertical-align: middle;\n",
       "    }\n",
       "\n",
       "    .dataframe tbody tr th {\n",
       "        vertical-align: top;\n",
       "    }\n",
       "\n",
       "    .dataframe thead th {\n",
       "        text-align: right;\n",
       "    }\n",
       "</style>\n",
       "<table border=\"1\" class=\"dataframe\">\n",
       "  <thead>\n",
       "    <tr style=\"text-align: right;\">\n",
       "      <th></th>\n",
       "      <th>ROE</th>\n",
       "      <th>payout_ratio</th>\n",
       "      <th>dividends</th>\n",
       "    </tr>\n",
       "  </thead>\n",
       "  <tbody>\n",
       "    <tr>\n",
       "      <th>2013</th>\n",
       "      <td>0.12224</td>\n",
       "      <td>0.54</td>\n",
       "      <td>NaN</td>\n",
       "    </tr>\n",
       "    <tr>\n",
       "      <th>2014</th>\n",
       "      <td>0.01620</td>\n",
       "      <td>0.15</td>\n",
       "      <td>NaN</td>\n",
       "    </tr>\n",
       "    <tr>\n",
       "      <th>2015</th>\n",
       "      <td>0.08443</td>\n",
       "      <td>0.15</td>\n",
       "      <td>NaN</td>\n",
       "    </tr>\n",
       "    <tr>\n",
       "      <th>2016</th>\n",
       "      <td>0.08577</td>\n",
       "      <td>0.18</td>\n",
       "      <td>NaN</td>\n",
       "    </tr>\n",
       "    <tr>\n",
       "      <th>2017</th>\n",
       "      <td>0.06142</td>\n",
       "      <td>0.09</td>\n",
       "      <td>NaN</td>\n",
       "    </tr>\n",
       "    <tr>\n",
       "      <th>2018</th>\n",
       "      <td>0.10900</td>\n",
       "      <td>0.31</td>\n",
       "      <td>16.61</td>\n",
       "    </tr>\n",
       "    <tr>\n",
       "      <th>2019</th>\n",
       "      <td>0.08500</td>\n",
       "      <td>3.40</td>\n",
       "      <td>15.24</td>\n",
       "    </tr>\n",
       "    <tr>\n",
       "      <th>2020</th>\n",
       "      <td>0.00900</td>\n",
       "      <td>0.25</td>\n",
       "      <td>12.55</td>\n",
       "    </tr>\n",
       "  </tbody>\n",
       "</table>\n",
       "</div>"
      ],
      "text/plain": [
       "          ROE  payout_ratio  dividends\n",
       "2013  0.12224          0.54        NaN\n",
       "2014  0.01620          0.15        NaN\n",
       "2015  0.08443          0.15        NaN\n",
       "2016  0.08577          0.18        NaN\n",
       "2017  0.06142          0.09        NaN\n",
       "2018  0.10900          0.31      16.61\n",
       "2019  0.08500          3.40      15.24\n",
       "2020  0.00900          0.25      12.55"
      ]
     },
     "execution_count": 107,
     "metadata": {},
     "output_type": "execute_result"
    }
   ],
   "source": [
    "fin_data"
   ]
  },
  {
   "cell_type": "code",
   "execution_count": 108,
   "metadata": {},
   "outputs": [],
   "source": [
    "fin_data['g'] = fin_data['ROE'] * (1 - fin_data['payout_ratio'])"
   ]
  },
  {
   "cell_type": "code",
   "execution_count": 109,
   "metadata": {},
   "outputs": [
    {
     "data": {
      "text/html": [
       "<div>\n",
       "<style scoped>\n",
       "    .dataframe tbody tr th:only-of-type {\n",
       "        vertical-align: middle;\n",
       "    }\n",
       "\n",
       "    .dataframe tbody tr th {\n",
       "        vertical-align: top;\n",
       "    }\n",
       "\n",
       "    .dataframe thead th {\n",
       "        text-align: right;\n",
       "    }\n",
       "</style>\n",
       "<table border=\"1\" class=\"dataframe\">\n",
       "  <thead>\n",
       "    <tr style=\"text-align: right;\">\n",
       "      <th></th>\n",
       "      <th>ROE</th>\n",
       "      <th>payout_ratio</th>\n",
       "      <th>dividends</th>\n",
       "      <th>g</th>\n",
       "    </tr>\n",
       "  </thead>\n",
       "  <tbody>\n",
       "    <tr>\n",
       "      <th>2013</th>\n",
       "      <td>0.12224</td>\n",
       "      <td>0.54</td>\n",
       "      <td>NaN</td>\n",
       "      <td>0.056230</td>\n",
       "    </tr>\n",
       "    <tr>\n",
       "      <th>2014</th>\n",
       "      <td>0.01620</td>\n",
       "      <td>0.15</td>\n",
       "      <td>NaN</td>\n",
       "      <td>0.013770</td>\n",
       "    </tr>\n",
       "    <tr>\n",
       "      <th>2015</th>\n",
       "      <td>0.08443</td>\n",
       "      <td>0.15</td>\n",
       "      <td>NaN</td>\n",
       "      <td>0.071765</td>\n",
       "    </tr>\n",
       "    <tr>\n",
       "      <th>2016</th>\n",
       "      <td>0.08577</td>\n",
       "      <td>0.18</td>\n",
       "      <td>NaN</td>\n",
       "      <td>0.070331</td>\n",
       "    </tr>\n",
       "    <tr>\n",
       "      <th>2017</th>\n",
       "      <td>0.06142</td>\n",
       "      <td>0.09</td>\n",
       "      <td>NaN</td>\n",
       "      <td>0.055892</td>\n",
       "    </tr>\n",
       "    <tr>\n",
       "      <th>2018</th>\n",
       "      <td>0.10900</td>\n",
       "      <td>0.31</td>\n",
       "      <td>16.61</td>\n",
       "      <td>0.075210</td>\n",
       "    </tr>\n",
       "    <tr>\n",
       "      <th>2019</th>\n",
       "      <td>0.08500</td>\n",
       "      <td>3.40</td>\n",
       "      <td>15.24</td>\n",
       "      <td>-0.204000</td>\n",
       "    </tr>\n",
       "    <tr>\n",
       "      <th>2020</th>\n",
       "      <td>0.00900</td>\n",
       "      <td>0.25</td>\n",
       "      <td>12.55</td>\n",
       "      <td>0.006750</td>\n",
       "    </tr>\n",
       "  </tbody>\n",
       "</table>\n",
       "</div>"
      ],
      "text/plain": [
       "          ROE  payout_ratio  dividends         g\n",
       "2013  0.12224          0.54        NaN  0.056230\n",
       "2014  0.01620          0.15        NaN  0.013770\n",
       "2015  0.08443          0.15        NaN  0.071765\n",
       "2016  0.08577          0.18        NaN  0.070331\n",
       "2017  0.06142          0.09        NaN  0.055892\n",
       "2018  0.10900          0.31      16.61  0.075210\n",
       "2019  0.08500          3.40      15.24 -0.204000\n",
       "2020  0.00900          0.25      12.55  0.006750"
      ]
     },
     "execution_count": 109,
     "metadata": {},
     "output_type": "execute_result"
    }
   ],
   "source": [
    "fin_data"
   ]
  },
  {
   "cell_type": "code",
   "execution_count": 137,
   "metadata": {},
   "outputs": [
    {
     "data": {
      "text/plain": [
       "0.043743500000000005"
      ]
     },
     "execution_count": 137,
     "metadata": {},
     "output_type": "execute_result"
    }
   ],
   "source": [
    "g_1 = np.mean([0.056230, 0.013770, 0.071765, 0.070331, 0.055892, 0.075210, 0, 0.006750])\n",
    "g_1"
   ]
  },
  {
   "cell_type": "code",
   "execution_count": 138,
   "metadata": {},
   "outputs": [
    {
     "data": {
      "text/plain": [
       "0.04000000000000001"
      ]
     },
     "execution_count": 138,
     "metadata": {},
     "output_type": "execute_result"
    }
   ],
   "source": [
    "g_2 = 0.1 * 0.4\n",
    "g_2"
   ]
  },
  {
   "cell_type": "code",
   "execution_count": 149,
   "metadata": {},
   "outputs": [
    {
     "name": "stdout",
     "output_type": "stream",
     "text": [
      "2021 year - div = 13.098980925\n",
      "2022 year - div = 13.671976197092736\n",
      "2023 year - div = 14.27003628787026\n",
      "2024 year - div = 14.840837739385071\n",
      "2025 year - div = 15.434471248960474\n",
      "2026 year - div = 16.051850098918894\n"
     ]
    }
   ],
   "source": [
    "# for the next years \n",
    "\n",
    "div_2021 = 12.55 * (1 + g_1)\n",
    "div_2022 = div_2021 * (1 + g_1)\n",
    "div_2023 = div_2022 * (1 + g_1)\n",
    "div_2024 = div_2023 * (1 + g_2)\n",
    "div_2025 = div_2024 * (1 + g_2)\n",
    "div_2026 = div_2025 * (1 + g_2)\n",
    "\n",
    "print(f'2021 year - div = {div_2021}')\n",
    "print(f'2022 year - div = {div_2022}')\n",
    "print(f'2023 year - div = {div_2023}')\n",
    "print(f'2024 year - div = {div_2024}')\n",
    "print(f'2025 year - div = {div_2025}')\n",
    "print(f'2026 year - div = {div_2026}')"
   ]
  },
  {
   "cell_type": "code",
   "execution_count": 140,
   "metadata": {},
   "outputs": [
    {
     "name": "stdout",
     "output_type": "stream",
     "text": [
      "terminal period - div = 356.75090719675643\n"
     ]
    }
   ],
   "source": [
    "# for the terminal period \n",
    "\n",
    "div = div_2023 / g_2\n",
    "print(f'terminal period - div = {div}')"
   ]
  },
  {
   "cell_type": "code",
   "execution_count": 150,
   "metadata": {},
   "outputs": [
    {
     "name": "stdout",
     "output_type": "stream",
     "text": [
      "stock_value is equal to 113.30869698596814\n"
     ]
    }
   ],
   "source": [
    "# by 2020\n",
    "\n",
    "stock_value = (div_2021 / (expected_return + 1) ** 1) \\\n",
    "            + (div_2022 / (expected_return + 1) ** 2) \\\n",
    "            + (div_2023 / (expected_return + 1) ** 3) \\\n",
    "            + (((div_2023 * (1 + g_2)) / (expected_return - g_2)) / (expected_return + 1) ** 3)\n",
    "print(f'stock_value is equal to {stock_value}')"
   ]
  },
  {
   "cell_type": "code",
   "execution_count": null,
   "metadata": {},
   "outputs": [],
   "source": []
  }
 ],
 "metadata": {
  "kernelspec": {
   "display_name": "Python 3",
   "language": "python",
   "name": "python3"
  },
  "language_info": {
   "codemirror_mode": {
    "name": "ipython",
    "version": 3
   },
   "file_extension": ".py",
   "mimetype": "text/x-python",
   "name": "python",
   "nbconvert_exporter": "python",
   "pygments_lexer": "ipython3",
   "version": "3.7.6"
  },
  "toc": {
   "base_numbering": 1,
   "nav_menu": {},
   "number_sections": true,
   "sideBar": true,
   "skip_h1_title": false,
   "title_cell": "Navigation",
   "title_sidebar": "Navigation",
   "toc_cell": true,
   "toc_position": {},
   "toc_section_display": true,
   "toc_window_display": true
  }
 },
 "nbformat": 4,
 "nbformat_minor": 4
}
